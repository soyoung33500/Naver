{
 "cells": [
  {
   "cell_type": "code",
   "execution_count": 1,
   "id": "f433ed4c",
   "metadata": {},
   "outputs": [],
   "source": [
    "import time\n",
    "import pandas as pd\n",
    "import urllib.request\n",
    "import requests\n",
    "import bs4\n",
    "from collections import Counter\n",
    "import konlpy\n",
    "from konlpy.tag import Hannanum\n",
    "import matplotlib.pyplot as plt\n",
    "from wordcloud import WordCloud"
   ]
  },
  {
   "cell_type": "code",
   "execution_count": 2,
   "id": "899f56de",
   "metadata": {},
   "outputs": [
    {
     "data": {
      "text/html": [
       "<div>\n",
       "<style scoped>\n",
       "    .dataframe tbody tr th:only-of-type {\n",
       "        vertical-align: middle;\n",
       "    }\n",
       "\n",
       "    .dataframe tbody tr th {\n",
       "        vertical-align: top;\n",
       "    }\n",
       "\n",
       "    .dataframe thead th {\n",
       "        text-align: right;\n",
       "    }\n",
       "</style>\n",
       "<table border=\"1\" class=\"dataframe\">\n",
       "  <thead>\n",
       "    <tr style=\"text-align: right;\">\n",
       "      <th></th>\n",
       "      <th>날짜</th>\n",
       "      <th>실시간비율</th>\n",
       "      <th>실시간량</th>\n",
       "      <th>실검비율</th>\n",
       "      <th>실검량</th>\n",
       "    </tr>\n",
       "  </thead>\n",
       "  <tbody>\n",
       "    <tr>\n",
       "      <th>0</th>\n",
       "      <td>2021-02-25</td>\n",
       "      <td>100.00000</td>\n",
       "      <td>605624</td>\n",
       "      <td>100.00000</td>\n",
       "      <td>86899</td>\n",
       "    </tr>\n",
       "    <tr>\n",
       "      <th>1</th>\n",
       "      <td>2021-02-26</td>\n",
       "      <td>34.85076</td>\n",
       "      <td>211065</td>\n",
       "      <td>29.01214</td>\n",
       "      <td>25211</td>\n",
       "    </tr>\n",
       "    <tr>\n",
       "      <th>2</th>\n",
       "      <td>2021-02-27</td>\n",
       "      <td>17.63669</td>\n",
       "      <td>106812</td>\n",
       "      <td>14.48414</td>\n",
       "      <td>12587</td>\n",
       "    </tr>\n",
       "    <tr>\n",
       "      <th>3</th>\n",
       "      <td>2021-02-28</td>\n",
       "      <td>15.53354</td>\n",
       "      <td>94075</td>\n",
       "      <td>12.69096</td>\n",
       "      <td>11028</td>\n",
       "    </tr>\n",
       "    <tr>\n",
       "      <th>4</th>\n",
       "      <td>2021-03-01</td>\n",
       "      <td>16.45141</td>\n",
       "      <td>99634</td>\n",
       "      <td>13.12000</td>\n",
       "      <td>11401</td>\n",
       "    </tr>\n",
       "    <tr>\n",
       "      <th>...</th>\n",
       "      <td>...</td>\n",
       "      <td>...</td>\n",
       "      <td>...</td>\n",
       "      <td>...</td>\n",
       "      <td>...</td>\n",
       "    </tr>\n",
       "    <tr>\n",
       "      <th>800</th>\n",
       "      <td>2023-05-06</td>\n",
       "      <td>0.25251</td>\n",
       "      <td>1531</td>\n",
       "      <td>0.17540</td>\n",
       "      <td>153</td>\n",
       "    </tr>\n",
       "    <tr>\n",
       "      <th>801</th>\n",
       "      <td>2023-05-07</td>\n",
       "      <td>0.24853</td>\n",
       "      <td>1507</td>\n",
       "      <td>0.20266</td>\n",
       "      <td>177</td>\n",
       "    </tr>\n",
       "    <tr>\n",
       "      <th>802</th>\n",
       "      <td>2023-05-08</td>\n",
       "      <td>0.80667</td>\n",
       "      <td>4892</td>\n",
       "      <td>0.62222</td>\n",
       "      <td>542</td>\n",
       "    </tr>\n",
       "    <tr>\n",
       "      <th>803</th>\n",
       "      <td>2023-05-09</td>\n",
       "      <td>0.89570</td>\n",
       "      <td>5432</td>\n",
       "      <td>3.45600</td>\n",
       "      <td>3010</td>\n",
       "    </tr>\n",
       "    <tr>\n",
       "      <th>804</th>\n",
       "      <td>2023-05-10</td>\n",
       "      <td>1.00574</td>\n",
       "      <td>6099</td>\n",
       "      <td>3.10755</td>\n",
       "      <td>2707</td>\n",
       "    </tr>\n",
       "  </tbody>\n",
       "</table>\n",
       "<p>805 rows × 5 columns</p>\n",
       "</div>"
      ],
      "text/plain": [
       "            날짜      실시간비율    실시간량       실검비율    실검량\n",
       "0   2021-02-25  100.00000  605624  100.00000  86899\n",
       "1   2021-02-26   34.85076  211065   29.01214  25211\n",
       "2   2021-02-27   17.63669  106812   14.48414  12587\n",
       "3   2021-02-28   15.53354   94075   12.69096  11028\n",
       "4   2021-03-01   16.45141   99634   13.12000  11401\n",
       "..         ...        ...     ...        ...    ...\n",
       "800 2023-05-06    0.25251    1531    0.17540    153\n",
       "801 2023-05-07    0.24853    1507    0.20266    177\n",
       "802 2023-05-08    0.80667    4892    0.62222    542\n",
       "803 2023-05-09    0.89570    5432    3.45600   3010\n",
       "804 2023-05-10    1.00574    6099    3.10755   2707\n",
       "\n",
       "[805 rows x 5 columns]"
      ]
     },
     "execution_count": 2,
     "metadata": {},
     "output_type": "execute_result"
    }
   ],
   "source": [
    "data = pd.read_excel(\"D:/marketing/data.xlsx\")\n",
    "data"
   ]
  },
  {
   "cell_type": "code",
   "execution_count": 9,
   "id": "c79fbbdf",
   "metadata": {},
   "outputs": [
    {
     "data": {
      "text/html": [
       "<div>\n",
       "<style scoped>\n",
       "    .dataframe tbody tr th:only-of-type {\n",
       "        vertical-align: middle;\n",
       "    }\n",
       "\n",
       "    .dataframe tbody tr th {\n",
       "        vertical-align: top;\n",
       "    }\n",
       "\n",
       "    .dataframe thead th {\n",
       "        text-align: right;\n",
       "    }\n",
       "</style>\n",
       "<table border=\"1\" class=\"dataframe\">\n",
       "  <thead>\n",
       "    <tr style=\"text-align: right;\">\n",
       "      <th></th>\n",
       "      <th>idx</th>\n",
       "      <th>Date</th>\n",
       "      <th>Contents</th>\n",
       "    </tr>\n",
       "  </thead>\n",
       "  <tbody>\n",
       "    <tr>\n",
       "      <th>0</th>\n",
       "      <td>0</td>\n",
       "      <td>2021-02-25</td>\n",
       "      <td>네이버 실시간 검색어 실검 첫번째</td>\n",
       "    </tr>\n",
       "    <tr>\n",
       "      <th>1</th>\n",
       "      <td>1</td>\n",
       "      <td>2021-02-25</td>\n",
       "      <td>두번째 안녕하세요 사과 바나나 오렌지 포도</td>\n",
       "    </tr>\n",
       "    <tr>\n",
       "      <th>2</th>\n",
       "      <td>2</td>\n",
       "      <td>2021-02-26</td>\n",
       "      <td>세번째 서울대 부산대 부경대 연세대 고려대</td>\n",
       "    </tr>\n",
       "    <tr>\n",
       "      <th>3</th>\n",
       "      <td>3</td>\n",
       "      <td>2021-02-26</td>\n",
       "      <td>네번째 노트북 태블릿 컴퓨터 휴대폰</td>\n",
       "    </tr>\n",
       "    <tr>\n",
       "      <th>4</th>\n",
       "      <td>4</td>\n",
       "      <td>2021-02-27</td>\n",
       "      <td>다섯번째 어린이날 공휴일 현충일 석가탄신일</td>\n",
       "    </tr>\n",
       "  </tbody>\n",
       "</table>\n",
       "</div>"
      ],
      "text/plain": [
       "   idx        Date                 Contents\n",
       "0    0  2021-02-25       네이버 실시간 검색어 실검 첫번째\n",
       "1    1  2021-02-25  두번째 안녕하세요 사과 바나나 오렌지 포도\n",
       "2    2  2021-02-26  세번째 서울대 부산대 부경대 연세대 고려대\n",
       "3    3  2021-02-26      네번째 노트북 태블릿 컴퓨터 휴대폰\n",
       "4    4  2021-02-27  다섯번째 어린이날 공휴일 현충일 석가탄신일"
      ]
     },
     "execution_count": 9,
     "metadata": {},
     "output_type": "execute_result"
    }
   ],
   "source": [
    "df_con = pd.DataFrame({\"idx\":[0, 1, 2, 3, 4], \"Date\":['2021-02-25', '2021-02-25', '2021-02-26', '2021-02-26', '2021-02-27'], \"Contents\":[\"네이버 실시간 검색어 실검 첫번째\", \"두번째 안녕하세요 사과 바나나 오렌지 포도\", \"세번째 서울대 부산대 부경대 연세대 고려대\", \"네번째 노트북 태블릿 컴퓨터 휴대폰\", \"다섯번째 어린이날 공휴일 현충일 석가탄신일\"]})\n",
    "df_con"
   ]
  },
  {
   "cell_type": "code",
   "execution_count": 50,
   "id": "63207b1d",
   "metadata": {},
   "outputs": [
    {
     "name": "stdout",
     "output_type": "stream",
     "text": [
      "[[0, 'a'], [1, 'b'], [2, 'c']]\n",
      "['a', 'b', 'c']\n"
     ]
    }
   ],
   "source": [
    "a = [[0, \"a\"], [1, \"b\"], [2, \"c\"]]\n",
    "print(a)\n",
    "print([a[i][1] for i in range(len(a))])"
   ]
  },
  {
   "cell_type": "code",
   "execution_count": null,
   "id": "477041d5",
   "metadata": {},
   "outputs": [],
   "source": [
    "news_T = []\n",
    "total = 0\n",
    "for i in range(115):\n",
    "    news = pd.read_csv(\"C:/marketing/data10/df\" + str(i) + \".csv\", encoding=\"utf-8-sig\")\n",
    "    date.extend(news[\"\"])\n",
    "    total += len(news[\"URL\"])\n",
    "    news_T.extend(news[\"URL\"])"
   ]
  },
  {
   "cell_type": "markdown",
   "id": "d962b440",
   "metadata": {},
   "source": [
    "기사 url을 크롤링할 때 날짜도 입력하기   \n",
    "입력된 날짜와 url을 따로 리스트에 저장   \n",
    "url에 따라 뉴스 본문 크롤링   \n",
    "뉴스 본문과 날짜 리스트를 합쳐서 데이터프레임으로 만들기   \n",
    "날짜에 따라 데이터프레임을 나눠서 형태소 분석"
   ]
  },
  {
   "cell_type": "code",
   "execution_count": 10,
   "id": "6034c108",
   "metadata": {},
   "outputs": [],
   "source": [
    "tagger=Hannanum()"
   ]
  },
  {
   "cell_type": "raw",
   "id": "9a082108",
   "metadata": {},
   "source": [
    "df_con = pd.DataFrame({\"Date\":date, \"Contents\":con})\n",
    "df_con"
   ]
  },
  {
   "cell_type": "markdown",
   "id": "50336123",
   "metadata": {},
   "source": [
    "그냥 날짜가 하나씩 저장된 리스트"
   ]
  },
  {
   "cell_type": "code",
   "execution_count": 53,
   "id": "ba0759b6",
   "metadata": {},
   "outputs": [
    {
     "data": {
      "text/plain": [
       "0     2021-02-25\n",
       "1     2021-02-26\n",
       "2     2021-02-27\n",
       "3     2021-02-28\n",
       "4     2021-03-01\n",
       "         ...    \n",
       "800   2023-05-06\n",
       "801   2023-05-07\n",
       "802   2023-05-08\n",
       "803   2023-05-09\n",
       "804   2023-05-10\n",
       "Name: 날짜, Length: 805, dtype: datetime64[ns]"
      ]
     },
     "execution_count": 53,
     "metadata": {},
     "output_type": "execute_result"
    }
   ],
   "source": [
    "data[\"날짜\"]"
   ]
  },
  {
   "cell_type": "code",
   "execution_count": 54,
   "id": "ae790b7d",
   "metadata": {},
   "outputs": [],
   "source": [
    "b = [\"2021-02-25\", \"2021-02-26\", \"2021-02-27\"]"
   ]
  },
  {
   "cell_type": "code",
   "execution_count": 55,
   "id": "43e55571",
   "metadata": {},
   "outputs": [
    {
     "data": {
      "text/html": [
       "<div>\n",
       "<style scoped>\n",
       "    .dataframe tbody tr th:only-of-type {\n",
       "        vertical-align: middle;\n",
       "    }\n",
       "\n",
       "    .dataframe tbody tr th {\n",
       "        vertical-align: top;\n",
       "    }\n",
       "\n",
       "    .dataframe thead th {\n",
       "        text-align: right;\n",
       "    }\n",
       "</style>\n",
       "<table border=\"1\" class=\"dataframe\">\n",
       "  <thead>\n",
       "    <tr style=\"text-align: right;\">\n",
       "      <th></th>\n",
       "      <th>idx</th>\n",
       "      <th>Date</th>\n",
       "      <th>Contents</th>\n",
       "    </tr>\n",
       "  </thead>\n",
       "  <tbody>\n",
       "    <tr>\n",
       "      <th>0</th>\n",
       "      <td>0</td>\n",
       "      <td>2021-02-25</td>\n",
       "      <td>네이버 실시간 검색어 실검 첫번째</td>\n",
       "    </tr>\n",
       "    <tr>\n",
       "      <th>1</th>\n",
       "      <td>1</td>\n",
       "      <td>2021-02-25</td>\n",
       "      <td>두번째 안녕하세요 사과 바나나 오렌지 포도</td>\n",
       "    </tr>\n",
       "    <tr>\n",
       "      <th>2</th>\n",
       "      <td>2</td>\n",
       "      <td>2021-02-26</td>\n",
       "      <td>세번째 서울대 부산대 부경대 연세대 고려대</td>\n",
       "    </tr>\n",
       "    <tr>\n",
       "      <th>3</th>\n",
       "      <td>3</td>\n",
       "      <td>2021-02-26</td>\n",
       "      <td>네번째 노트북 태블릿 컴퓨터 휴대폰</td>\n",
       "    </tr>\n",
       "    <tr>\n",
       "      <th>4</th>\n",
       "      <td>4</td>\n",
       "      <td>2021-02-27</td>\n",
       "      <td>다섯번째 어린이날 공휴일 현충일 석가탄신일</td>\n",
       "    </tr>\n",
       "  </tbody>\n",
       "</table>\n",
       "</div>"
      ],
      "text/plain": [
       "   idx        Date                 Contents\n",
       "0    0  2021-02-25       네이버 실시간 검색어 실검 첫번째\n",
       "1    1  2021-02-25  두번째 안녕하세요 사과 바나나 오렌지 포도\n",
       "2    2  2021-02-26  세번째 서울대 부산대 부경대 연세대 고려대\n",
       "3    3  2021-02-26      네번째 노트북 태블릿 컴퓨터 휴대폰\n",
       "4    4  2021-02-27  다섯번째 어린이날 공휴일 현충일 석가탄신일"
      ]
     },
     "execution_count": 55,
     "metadata": {},
     "output_type": "execute_result"
    }
   ],
   "source": [
    "df_con = pd.DataFrame({\"idx\":[0, 1, 2, 3, 4], \"Date\":['2021-02-25', '2021-02-25', '2021-02-26', '2021-02-26', '2021-02-27'], \"Contents\":[\"네이버 실시간 검색어 실검 첫번째\", \"두번째 안녕하세요 사과 바나나 오렌지 포도\", \"세번째 서울대 부산대 부경대 연세대 고려대\", \"네번째 노트북 태블릿 컴퓨터 휴대폰\", \"다섯번째 어린이날 공휴일 현충일 석가탄신일\"]})\n",
    "df_con"
   ]
  },
  {
   "cell_type": "code",
   "execution_count": 58,
   "id": "b1395f4f",
   "metadata": {},
   "outputs": [
    {
     "name": "stdout",
     "output_type": "stream",
     "text": [
      "2021-02-25\n",
      "DONE\n",
      "2021-02-26\n",
      "DONE\n",
      "2021-02-27\n",
      "DONE\n"
     ]
    },
    {
     "name": "stderr",
     "output_type": "stream",
     "text": [
      "C:\\Users\\Public\\Documents\\ESTsoft\\CreatorTemp\\ipykernel_20468\\1030266704.py:5: FutureWarning: The default value of regex will change from True to False in a future version.\n",
      "  text_filtered = text.str.replace(\"[^ㄱ-ㅎ ㅏ-ㅣ 가-힣]\",\" \")\n",
      "C:\\Users\\Public\\Documents\\ESTsoft\\CreatorTemp\\ipykernel_20468\\1030266704.py:5: FutureWarning: The default value of regex will change from True to False in a future version.\n",
      "  text_filtered = text.str.replace(\"[^ㄱ-ㅎ ㅏ-ㅣ 가-힣]\",\" \")\n",
      "C:\\Users\\Public\\Documents\\ESTsoft\\CreatorTemp\\ipykernel_20468\\1030266704.py:5: FutureWarning: The default value of regex will change from True to False in a future version.\n",
      "  text_filtered = text.str.replace(\"[^ㄱ-ㅎ ㅏ-ㅣ 가-힣]\",\" \")\n"
     ]
    }
   ],
   "source": [
    "# 반복문으로 날짜별 데이터프레임에 따라 형태소 분석\n",
    "for i in range(len(b)):\n",
    "    print(b[i])\n",
    "    text = df_con[df_con[\"Date\"] == b[i]][\"Contents\"]\n",
    "    text_filtered = text.str.replace(\"[^ㄱ-ㅎ ㅏ-ㅣ 가-힣]\",\" \")\n",
    "    \n",
    "    tokenized_data_filtered=[]\n",
    "    for j in text_filtered:\n",
    "        temp = tagger.nouns(j)\n",
    "        temp = [word for word in temp if len(word)>1]  ## 두글자 이상이면 포함, 리스트 함축\n",
    "        #temp = [word for word in temp if word not in stopwords]\n",
    "        tokenized_data_filtered.append(temp)\n",
    "    \n",
    "    tokens=[]\n",
    "    for k in tokenized_data_filtered:\n",
    "        tokens.extend(k)\n",
    "\n",
    "    num_top_tokens=100\n",
    "\n",
    "    counted_tokens=Counter(tokens)\n",
    "    top_keywords=dict(counted_tokens.most_common(num_top_tokens))\n",
    "    tk_df = pd.DataFrame(list(top_keywords.items()), columns=['keywords','freq'])\n",
    "    tk_df.to_csv(\"D:/marketing/test/tk_df\" + str(i) + \".csv\", encoding = \"utf-8-sig\")\n",
    "    \n",
    "    print(\"DONE\")"
   ]
  },
  {
   "cell_type": "code",
   "execution_count": 66,
   "id": "15081cad",
   "metadata": {},
   "outputs": [],
   "source": [
    "tk_df[\"freq\"] *= 0.1"
   ]
  },
  {
   "cell_type": "code",
   "execution_count": 67,
   "id": "e658964c",
   "metadata": {},
   "outputs": [
    {
     "data": {
      "text/html": [
       "<div>\n",
       "<style scoped>\n",
       "    .dataframe tbody tr th:only-of-type {\n",
       "        vertical-align: middle;\n",
       "    }\n",
       "\n",
       "    .dataframe tbody tr th {\n",
       "        vertical-align: top;\n",
       "    }\n",
       "\n",
       "    .dataframe thead th {\n",
       "        text-align: right;\n",
       "    }\n",
       "</style>\n",
       "<table border=\"1\" class=\"dataframe\">\n",
       "  <thead>\n",
       "    <tr style=\"text-align: right;\">\n",
       "      <th></th>\n",
       "      <th>keywords</th>\n",
       "      <th>freq</th>\n",
       "    </tr>\n",
       "  </thead>\n",
       "  <tbody>\n",
       "    <tr>\n",
       "      <th>0</th>\n",
       "      <td>다섯번</td>\n",
       "      <td>0.1</td>\n",
       "    </tr>\n",
       "    <tr>\n",
       "      <th>1</th>\n",
       "      <td>어린이날</td>\n",
       "      <td>0.1</td>\n",
       "    </tr>\n",
       "    <tr>\n",
       "      <th>2</th>\n",
       "      <td>공휴일</td>\n",
       "      <td>0.1</td>\n",
       "    </tr>\n",
       "    <tr>\n",
       "      <th>3</th>\n",
       "      <td>현충일</td>\n",
       "      <td>0.1</td>\n",
       "    </tr>\n",
       "    <tr>\n",
       "      <th>4</th>\n",
       "      <td>석가탄신</td>\n",
       "      <td>0.1</td>\n",
       "    </tr>\n",
       "  </tbody>\n",
       "</table>\n",
       "</div>"
      ],
      "text/plain": [
       "  keywords  freq\n",
       "0      다섯번   0.1\n",
       "1     어린이날   0.1\n",
       "2      공휴일   0.1\n",
       "3      현충일   0.1\n",
       "4     석가탄신   0.1"
      ]
     },
     "execution_count": 67,
     "metadata": {},
     "output_type": "execute_result"
    }
   ],
   "source": [
    "tk_df"
   ]
  },
  {
   "cell_type": "code",
   "execution_count": 60,
   "id": "243179c6",
   "metadata": {},
   "outputs": [],
   "source": [
    "#가중치 저장\n",
    "w = [0.5, 0.2, 0.1]"
   ]
  },
  {
   "cell_type": "code",
   "execution_count": 76,
   "id": "9a3e4738",
   "metadata": {},
   "outputs": [],
   "source": [
    "top = pd.DataFrame()\n",
    "for i in range(len(b)):\n",
    "    tk = pd.read_csv(\"D:/marketing/test/tk_df\" + str(i) + \".csv\", encoding=\"utf-8-sig\", index_col = 0)\n",
    "    tk[\"freq\"] *= w[i]\n",
    "    top = pd.concat([top, tk], ignore_index = True)"
   ]
  },
  {
   "cell_type": "code",
   "execution_count": 78,
   "id": "1d3448d9",
   "metadata": {},
   "outputs": [
    {
     "name": "stdout",
     "output_type": "stream",
     "text": [
      "   keywords  freq\n",
      "0       네이버   0.5\n",
      "1       실시간   0.5\n",
      "2       검색어   0.5\n",
      "3        실검   0.5\n",
      "4        첫번   0.5\n",
      "5        두번   0.5\n",
      "6        안녕   0.5\n",
      "7        사과   0.5\n",
      "8       바나나   0.5\n",
      "9       오렌지   0.5\n",
      "10       포도   0.5\n",
      "11       세번   0.2\n",
      "12      서울대   0.2\n",
      "13      부산대   0.2\n",
      "14      연세대   0.2\n",
      "15      고려대   0.2\n",
      "16       네번   0.2\n",
      "17      노트북   0.2\n",
      "18      태블릿   0.2\n",
      "19      컴퓨터   0.2\n",
      "20      휴대폰   0.2\n",
      "21      다섯번   0.1\n",
      "22     어린이날   0.1\n",
      "23      공휴일   0.1\n",
      "24      현충일   0.1\n",
      "25     석가탄신   0.1\n"
     ]
    }
   ],
   "source": [
    "print(top)"
   ]
  },
  {
   "cell_type": "code",
   "execution_count": 80,
   "id": "70f72f4d",
   "metadata": {},
   "outputs": [
    {
     "data": {
      "text/plain": [
       "keywords\n",
       "검색어     0.5\n",
       "고려대     0.2\n",
       "공휴일     0.1\n",
       "네번      0.2\n",
       "네이버     0.5\n",
       "노트북     0.2\n",
       "다섯번     0.1\n",
       "두번      0.5\n",
       "바나나     0.5\n",
       "부산대     0.2\n",
       "사과      0.5\n",
       "서울대     0.2\n",
       "석가탄신    0.1\n",
       "세번      0.2\n",
       "실검      0.5\n",
       "실시간     0.5\n",
       "안녕      0.5\n",
       "어린이날    0.1\n",
       "연세대     0.2\n",
       "오렌지     0.5\n",
       "첫번      0.5\n",
       "컴퓨터     0.2\n",
       "태블릿     0.2\n",
       "포도      0.5\n",
       "현충일     0.1\n",
       "휴대폰     0.2\n",
       "Name: freq, dtype: float64"
      ]
     },
     "execution_count": 80,
     "metadata": {},
     "output_type": "execute_result"
    }
   ],
   "source": [
    "r2 = top.groupby('keywords')['freq'].sum()\n",
    "r2"
   ]
  },
  {
   "cell_type": "code",
   "execution_count": null,
   "id": "74bddf4e",
   "metadata": {},
   "outputs": [],
   "source": [
    "r3 = r2.sort_values(ascending = False)[:100]\n",
    "r3"
   ]
  },
  {
   "cell_type": "code",
   "execution_count": null,
   "id": "e8dc762b",
   "metadata": {},
   "outputs": [],
   "source": [
    "# keyword열을 key로하는 딕셔너리 생성\n",
    "r4 = r3.T.to_dict()\n",
    "r4"
   ]
  },
  {
   "cell_type": "markdown",
   "id": "2f65cff5",
   "metadata": {},
   "source": [
    "---"
   ]
  },
  {
   "cell_type": "code",
   "execution_count": 46,
   "id": "257229f8",
   "metadata": {},
   "outputs": [
    {
     "data": {
      "text/html": [
       "<div>\n",
       "<style scoped>\n",
       "    .dataframe tbody tr th:only-of-type {\n",
       "        vertical-align: middle;\n",
       "    }\n",
       "\n",
       "    .dataframe tbody tr th {\n",
       "        vertical-align: top;\n",
       "    }\n",
       "\n",
       "    .dataframe thead th {\n",
       "        text-align: right;\n",
       "    }\n",
       "</style>\n",
       "<table border=\"1\" class=\"dataframe\">\n",
       "  <thead>\n",
       "    <tr style=\"text-align: right;\">\n",
       "      <th></th>\n",
       "      <th>idx</th>\n",
       "      <th>Date</th>\n",
       "      <th>Contents</th>\n",
       "    </tr>\n",
       "  </thead>\n",
       "  <tbody>\n",
       "    <tr>\n",
       "      <th>0</th>\n",
       "      <td>0</td>\n",
       "      <td>2021-02-25</td>\n",
       "      <td>네이버 실시간 검색어 실검 첫번째</td>\n",
       "    </tr>\n",
       "    <tr>\n",
       "      <th>1</th>\n",
       "      <td>1</td>\n",
       "      <td>2021-02-25</td>\n",
       "      <td>두번째 안녕하세요 사과 바나나 오렌지 포도</td>\n",
       "    </tr>\n",
       "  </tbody>\n",
       "</table>\n",
       "</div>"
      ],
      "text/plain": [
       "   idx        Date                 Contents\n",
       "0    0  2021-02-25       네이버 실시간 검색어 실검 첫번째\n",
       "1    1  2021-02-25  두번째 안녕하세요 사과 바나나 오렌지 포도"
      ]
     },
     "execution_count": 46,
     "metadata": {},
     "output_type": "execute_result"
    }
   ],
   "source": [
    "df2 = df_con[df_con[\"Date\"] == '2021-02-25']\n",
    "df2"
   ]
  },
  {
   "cell_type": "code",
   "execution_count": 42,
   "id": "eb2f0205",
   "metadata": {},
   "outputs": [
    {
     "data": {
      "text/plain": [
       "0         네이버 실시간 검색어 실검 첫번째\n",
       "1    두번째 안녕하세요 사과 바나나 오렌지 포도\n",
       "Name: Contents, dtype: object"
      ]
     },
     "execution_count": 42,
     "metadata": {},
     "output_type": "execute_result"
    }
   ],
   "source": [
    "df_con.loc[0:1, \"Contents\"]"
   ]
  },
  {
   "cell_type": "code",
   "execution_count": 47,
   "id": "af13c6c5",
   "metadata": {},
   "outputs": [
    {
     "name": "stderr",
     "output_type": "stream",
     "text": [
      "C:\\Users\\Public\\Documents\\ESTsoft\\CreatorTemp\\ipykernel_20468\\2381274339.py:2: FutureWarning: The default value of regex will change from True to False in a future version.\n",
      "  text_filtered = text.str.replace(\"[^ㄱ-ㅎ ㅏ-ㅣ 가-힣]\",\" \")\n"
     ]
    }
   ],
   "source": [
    "text = df2[\"Contents\"]\n",
    "text_filtered = text.str.replace(\"[^ㄱ-ㅎ ㅏ-ㅣ 가-힣]\",\" \")"
   ]
  },
  {
   "cell_type": "code",
   "execution_count": 48,
   "id": "d5b9eea8",
   "metadata": {},
   "outputs": [
    {
     "data": {
      "text/plain": [
       "0         네이버 실시간 검색어 실검 첫번째\n",
       "1    두번째 안녕하세요 사과 바나나 오렌지 포도\n",
       "Name: Contents, dtype: object"
      ]
     },
     "execution_count": 48,
     "metadata": {},
     "output_type": "execute_result"
    }
   ],
   "source": [
    "text_filtered"
   ]
  },
  {
   "cell_type": "code",
   "execution_count": 23,
   "id": "22e1f2ad",
   "metadata": {},
   "outputs": [
    {
     "name": "stdout",
     "output_type": "stream",
     "text": [
      "idx = 0\n",
      "idx = 1\n",
      "idx = 2\n",
      "idx = 3\n",
      "idx = 4\n"
     ]
    }
   ],
   "source": [
    "tokenized_data_filtered=dict()\n",
    "for idx, j in enumerate(text_filtered):\n",
    "    print(\"idx =\", idx)\n",
    "    temp = tagger.nouns(j)\n",
    "    temp = [word for word in temp if len(word)>1]  ## 두글자 이상이면 포함, 리스트 함축\n",
    "    #temp = [word for word in temp if word not in stopwords]\n",
    "    tokenized_data_filtered[df_con.loc[idx, \"Date\"]] = temp"
   ]
  },
  {
   "cell_type": "code",
   "execution_count": 24,
   "id": "954945c9",
   "metadata": {},
   "outputs": [
    {
     "data": {
      "text/plain": [
       "{'2021-02-25': ['두번', '안녕', '사과', '바나나', '오렌지', '포도'],\n",
       " '2021-02-26': ['네번', '노트북', '태블릿', '컴퓨터', '휴대폰'],\n",
       " '2021-02-27': ['다섯번', '어린이날', '공휴일', '현충일', '석가탄신']}"
      ]
     },
     "execution_count": 24,
     "metadata": {},
     "output_type": "execute_result"
    }
   ],
   "source": [
    "tokenized_data_filtered"
   ]
  },
  {
   "cell_type": "code",
   "execution_count": 14,
   "id": "65e0d8b5",
   "metadata": {},
   "outputs": [],
   "source": [
    "tokens=[]\n",
    "for k in tokenized_data_filtered:\n",
    "    tokens.extend(k)"
   ]
  },
  {
   "cell_type": "code",
   "execution_count": 15,
   "id": "13012b7f",
   "metadata": {},
   "outputs": [
    {
     "data": {
      "text/plain": [
       "['네이버',\n",
       " '실시간',\n",
       " '검색어',\n",
       " '실검',\n",
       " '첫번',\n",
       " '두번',\n",
       " '안녕',\n",
       " '사과',\n",
       " '바나나',\n",
       " '오렌지',\n",
       " '포도',\n",
       " '세번',\n",
       " '서울대',\n",
       " '부산대',\n",
       " '연세대',\n",
       " '고려대',\n",
       " '네번',\n",
       " '노트북',\n",
       " '태블릿',\n",
       " '컴퓨터',\n",
       " '휴대폰',\n",
       " '다섯번',\n",
       " '어린이날',\n",
       " '공휴일',\n",
       " '현충일',\n",
       " '석가탄신']"
      ]
     },
     "execution_count": 15,
     "metadata": {},
     "output_type": "execute_result"
    }
   ],
   "source": [
    "tokens"
   ]
  },
  {
   "cell_type": "code",
   "execution_count": null,
   "id": "56dc7fc0",
   "metadata": {},
   "outputs": [],
   "source": [
    "num_top_tokens=100\n",
    "\n",
    "counted_tokens=Counter(tokens)\n",
    "top_keywords=dict(counted_tokens.most_common(num_top_tokens))\n",
    "tk_df = pd.DataFrame(list(top_keywords.items()), columns=['keywords','freq'])\n",
    "print(\"DONE\")"
   ]
  },
  {
   "cell_type": "code",
   "execution_count": 17,
   "id": "d342ba5d",
   "metadata": {},
   "outputs": [
    {
     "data": {
      "text/plain": [
       "Counter({'네이버': 1,\n",
       "         '실시간': 1,\n",
       "         '검색어': 1,\n",
       "         '실검': 1,\n",
       "         '첫번': 1,\n",
       "         '두번': 1,\n",
       "         '안녕': 1,\n",
       "         '사과': 1,\n",
       "         '바나나': 1,\n",
       "         '오렌지': 1,\n",
       "         '포도': 1,\n",
       "         '세번': 1,\n",
       "         '서울대': 1,\n",
       "         '부산대': 1,\n",
       "         '연세대': 1,\n",
       "         '고려대': 1,\n",
       "         '네번': 1,\n",
       "         '노트북': 1,\n",
       "         '태블릿': 1,\n",
       "         '컴퓨터': 1,\n",
       "         '휴대폰': 1,\n",
       "         '다섯번': 1,\n",
       "         '어린이날': 1,\n",
       "         '공휴일': 1,\n",
       "         '현충일': 1,\n",
       "         '석가탄신': 1})"
      ]
     },
     "execution_count": 17,
     "metadata": {},
     "output_type": "execute_result"
    }
   ],
   "source": [
    "counted_tokens = Counter(tokens)\n",
    "counted_tokens"
   ]
  },
  {
   "cell_type": "markdown",
   "id": "acee86b5",
   "metadata": {},
   "source": [
    "---"
   ]
  },
  {
   "cell_type": "code",
   "execution_count": 1,
   "id": "cabc34de",
   "metadata": {},
   "outputs": [],
   "source": [
    "import time\n",
    "import pandas as pd\n",
    "import urllib.request\n",
    "import requests\n",
    "import bs4\n",
    "from collections import Counter\n",
    "import konlpy\n",
    "from konlpy.tag import Hannanum\n",
    "import matplotlib.pyplot as plt\n",
    "from wordcloud import WordCloud"
   ]
  },
  {
   "cell_type": "code",
   "execution_count": 2,
   "id": "1f01144c",
   "metadata": {},
   "outputs": [
    {
     "data": {
      "text/plain": [
       "['20210225', '20210226', '20210227', '20210301', '20210228']"
      ]
     },
     "execution_count": 2,
     "metadata": {},
     "output_type": "execute_result"
    }
   ],
   "source": [
    "data = pd.read_excel('C:/marketing/data.xlsx')\n",
    "a = data.sort_values(\"실시간비율\", ascending = False, ignore_index = True)[:100]\n",
    "b = []\n",
    "for i in range(100):\n",
    "    b.append(str(a.loc[i, \"날짜\"])[:10].replace(\"-\",\"\"))\n",
    "b[:5]"
   ]
  },
  {
   "cell_type": "code",
   "execution_count": 3,
   "id": "b9e48068",
   "metadata": {},
   "outputs": [
    {
     "data": {
      "text/html": [
       "<div>\n",
       "<style scoped>\n",
       "    .dataframe tbody tr th:only-of-type {\n",
       "        vertical-align: middle;\n",
       "    }\n",
       "\n",
       "    .dataframe tbody tr th {\n",
       "        vertical-align: top;\n",
       "    }\n",
       "\n",
       "    .dataframe thead th {\n",
       "        text-align: right;\n",
       "    }\n",
       "</style>\n",
       "<table border=\"1\" class=\"dataframe\">\n",
       "  <thead>\n",
       "    <tr style=\"text-align: right;\">\n",
       "      <th></th>\n",
       "      <th>날짜</th>\n",
       "      <th>실시간비율</th>\n",
       "      <th>실시간량</th>\n",
       "      <th>실검비율</th>\n",
       "      <th>실검량</th>\n",
       "    </tr>\n",
       "  </thead>\n",
       "  <tbody>\n",
       "    <tr>\n",
       "      <th>0</th>\n",
       "      <td>2021-02-25</td>\n",
       "      <td>100.00000</td>\n",
       "      <td>605624</td>\n",
       "      <td>100.00000</td>\n",
       "      <td>86899</td>\n",
       "    </tr>\n",
       "    <tr>\n",
       "      <th>1</th>\n",
       "      <td>2021-02-26</td>\n",
       "      <td>34.85076</td>\n",
       "      <td>211065</td>\n",
       "      <td>29.01214</td>\n",
       "      <td>25211</td>\n",
       "    </tr>\n",
       "    <tr>\n",
       "      <th>2</th>\n",
       "      <td>2021-02-27</td>\n",
       "      <td>17.63669</td>\n",
       "      <td>106812</td>\n",
       "      <td>14.48414</td>\n",
       "      <td>12587</td>\n",
       "    </tr>\n",
       "    <tr>\n",
       "      <th>3</th>\n",
       "      <td>2021-02-28</td>\n",
       "      <td>15.53354</td>\n",
       "      <td>94075</td>\n",
       "      <td>12.69096</td>\n",
       "      <td>11028</td>\n",
       "    </tr>\n",
       "    <tr>\n",
       "      <th>4</th>\n",
       "      <td>2021-03-01</td>\n",
       "      <td>16.45141</td>\n",
       "      <td>99634</td>\n",
       "      <td>13.12000</td>\n",
       "      <td>11401</td>\n",
       "    </tr>\n",
       "    <tr>\n",
       "      <th>...</th>\n",
       "      <td>...</td>\n",
       "      <td>...</td>\n",
       "      <td>...</td>\n",
       "      <td>...</td>\n",
       "      <td>...</td>\n",
       "    </tr>\n",
       "    <tr>\n",
       "      <th>800</th>\n",
       "      <td>2023-05-06</td>\n",
       "      <td>0.25251</td>\n",
       "      <td>1531</td>\n",
       "      <td>0.17540</td>\n",
       "      <td>153</td>\n",
       "    </tr>\n",
       "    <tr>\n",
       "      <th>801</th>\n",
       "      <td>2023-05-07</td>\n",
       "      <td>0.24853</td>\n",
       "      <td>1507</td>\n",
       "      <td>0.20266</td>\n",
       "      <td>177</td>\n",
       "    </tr>\n",
       "    <tr>\n",
       "      <th>802</th>\n",
       "      <td>2023-05-08</td>\n",
       "      <td>0.80667</td>\n",
       "      <td>4892</td>\n",
       "      <td>0.62222</td>\n",
       "      <td>542</td>\n",
       "    </tr>\n",
       "    <tr>\n",
       "      <th>803</th>\n",
       "      <td>2023-05-09</td>\n",
       "      <td>0.89570</td>\n",
       "      <td>5432</td>\n",
       "      <td>3.45600</td>\n",
       "      <td>3010</td>\n",
       "    </tr>\n",
       "    <tr>\n",
       "      <th>804</th>\n",
       "      <td>2023-05-10</td>\n",
       "      <td>1.00574</td>\n",
       "      <td>6099</td>\n",
       "      <td>3.10755</td>\n",
       "      <td>2707</td>\n",
       "    </tr>\n",
       "  </tbody>\n",
       "</table>\n",
       "<p>805 rows × 5 columns</p>\n",
       "</div>"
      ],
      "text/plain": [
       "            날짜      실시간비율    실시간량       실검비율    실검량\n",
       "0   2021-02-25  100.00000  605624  100.00000  86899\n",
       "1   2021-02-26   34.85076  211065   29.01214  25211\n",
       "2   2021-02-27   17.63669  106812   14.48414  12587\n",
       "3   2021-02-28   15.53354   94075   12.69096  11028\n",
       "4   2021-03-01   16.45141   99634   13.12000  11401\n",
       "..         ...        ...     ...        ...    ...\n",
       "800 2023-05-06    0.25251    1531    0.17540    153\n",
       "801 2023-05-07    0.24853    1507    0.20266    177\n",
       "802 2023-05-08    0.80667    4892    0.62222    542\n",
       "803 2023-05-09    0.89570    5432    3.45600   3010\n",
       "804 2023-05-10    1.00574    6099    3.10755   2707\n",
       "\n",
       "[805 rows x 5 columns]"
      ]
     },
     "execution_count": 3,
     "metadata": {},
     "output_type": "execute_result"
    }
   ],
   "source": [
    "data"
   ]
  },
  {
   "cell_type": "code",
   "execution_count": null,
   "id": "71a77ace",
   "metadata": {},
   "outputs": [],
   "source": []
  }
 ],
 "metadata": {
  "kernelspec": {
   "display_name": "Python 3 (ipykernel)",
   "language": "python",
   "name": "python3"
  },
  "language_info": {
   "codemirror_mode": {
    "name": "ipython",
    "version": 3
   },
   "file_extension": ".py",
   "mimetype": "text/x-python",
   "name": "python",
   "nbconvert_exporter": "python",
   "pygments_lexer": "ipython3",
   "version": "3.10.9"
  }
 },
 "nbformat": 4,
 "nbformat_minor": 5
}
