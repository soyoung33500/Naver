{
 "cells": [
  {
   "cell_type": "code",
   "execution_count": null,
   "id": "2c2652b4",
   "metadata": {},
   "outputs": [],
   "source": [
    "news_T = []\n",
    "for i in range(len(e)):\n",
    "    news = pd.read_csv(\"C:/marketing/data/df\" + str(i) + \".csv\", encoding=\"utf-8-sig\")\n",
    "    news_T.append(news[\"URL\"])"
   ]
  },
  {
   "cell_type": "code",
   "execution_count": null,
   "id": "d154f488",
   "metadata": {},
   "outputs": [],
   "source": [
    "retry = []\n",
    "for i in range(len(error)):\n",
    "    if error[i] == 0:\n",
    "        retry.append(e[i])"
   ]
  },
  {
   "cell_type": "code",
   "execution_count": null,
   "id": "79dc8930",
   "metadata": {},
   "outputs": [],
   "source": [
    "print(len(error))\n",
    "for i in range(len(error)):\n",
    "    if error[i] == 0:\n",
    "        print(i)"
   ]
  }
 ],
 "metadata": {
  "kernelspec": {
   "display_name": "Python 3 (ipykernel)",
   "language": "python",
   "name": "python3"
  },
  "language_info": {
   "codemirror_mode": {
    "name": "ipython",
    "version": 3
   },
   "file_extension": ".py",
   "mimetype": "text/x-python",
   "name": "python",
   "nbconvert_exporter": "python",
   "pygments_lexer": "ipython3",
   "version": "3.10.9"
  }
 },
 "nbformat": 4,
 "nbformat_minor": 5
}
