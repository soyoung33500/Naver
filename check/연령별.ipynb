{
 "cells": [
  {
   "cell_type": "code",
   "execution_count": 1,
   "id": "197da83e",
   "metadata": {},
   "outputs": [],
   "source": [
    "import time\n",
    "import pandas as pd\n",
    "import urllib.request\n",
    "import requests\n",
    "import bs4\n",
    "from collections import Counter\n",
    "import konlpy\n",
    "from konlpy.tag import Hannanum\n",
    "import matplotlib.pyplot as plt\n",
    "from wordcloud import WordCloud"
   ]
  },
  {
   "cell_type": "code",
   "execution_count": 2,
   "id": "4da4e965",
   "metadata": {},
   "outputs": [
    {
     "data": {
      "text/plain": [
       "['20210505', '20210304', '20211025', '20210305', '20221015']"
      ]
     },
     "execution_count": 2,
     "metadata": {},
     "output_type": "execute_result"
    }
   ],
   "source": [
    "data = pd.read_excel('C:/marketing2/data22.xlsx')\n",
    "a = data.sort_values(\"실검\", ascending = False, ignore_index = True)[:100]\n",
    "b = []\n",
    "for i in range(100):\n",
    "    b.append(str(a.loc[i, \"날짜\"])[:10].replace(\"-\",\"\"))\n",
    "b[:5]"
   ]
  },
  {
   "cell_type": "code",
   "execution_count": 3,
   "id": "2cf86747",
   "metadata": {},
   "outputs": [
    {
     "data": {
      "text/html": [
       "<div>\n",
       "<style scoped>\n",
       "    .dataframe tbody tr th:only-of-type {\n",
       "        vertical-align: middle;\n",
       "    }\n",
       "\n",
       "    .dataframe tbody tr th {\n",
       "        vertical-align: top;\n",
       "    }\n",
       "\n",
       "    .dataframe thead th {\n",
       "        text-align: right;\n",
       "    }\n",
       "</style>\n",
       "<table border=\"1\" class=\"dataframe\">\n",
       "  <thead>\n",
       "    <tr style=\"text-align: right;\">\n",
       "      <th></th>\n",
       "      <th>날짜</th>\n",
       "      <th>실검</th>\n",
       "    </tr>\n",
       "  </thead>\n",
       "  <tbody>\n",
       "    <tr>\n",
       "      <th>0</th>\n",
       "      <td>2021-05-05</td>\n",
       "      <td>100.00000</td>\n",
       "    </tr>\n",
       "    <tr>\n",
       "      <th>1</th>\n",
       "      <td>2021-03-04</td>\n",
       "      <td>68.23434</td>\n",
       "    </tr>\n",
       "    <tr>\n",
       "      <th>2</th>\n",
       "      <td>2021-10-25</td>\n",
       "      <td>67.27456</td>\n",
       "    </tr>\n",
       "    <tr>\n",
       "      <th>3</th>\n",
       "      <td>2021-03-05</td>\n",
       "      <td>64.28811</td>\n",
       "    </tr>\n",
       "    <tr>\n",
       "      <th>4</th>\n",
       "      <td>2022-10-15</td>\n",
       "      <td>61.18335</td>\n",
       "    </tr>\n",
       "    <tr>\n",
       "      <th>...</th>\n",
       "      <td>...</td>\n",
       "      <td>...</td>\n",
       "    </tr>\n",
       "    <tr>\n",
       "      <th>95</th>\n",
       "      <td>2022-02-08</td>\n",
       "      <td>9.46013</td>\n",
       "    </tr>\n",
       "    <tr>\n",
       "      <th>96</th>\n",
       "      <td>2022-10-31</td>\n",
       "      <td>9.45809</td>\n",
       "    </tr>\n",
       "    <tr>\n",
       "      <th>97</th>\n",
       "      <td>2021-05-18</td>\n",
       "      <td>9.42341</td>\n",
       "    </tr>\n",
       "    <tr>\n",
       "      <th>98</th>\n",
       "      <td>2021-06-13</td>\n",
       "      <td>9.26226</td>\n",
       "    </tr>\n",
       "    <tr>\n",
       "      <th>99</th>\n",
       "      <td>2021-04-25</td>\n",
       "      <td>9.21636</td>\n",
       "    </tr>\n",
       "  </tbody>\n",
       "</table>\n",
       "<p>100 rows × 2 columns</p>\n",
       "</div>"
      ],
      "text/plain": [
       "            날짜         실검\n",
       "0   2021-05-05  100.00000\n",
       "1   2021-03-04   68.23434\n",
       "2   2021-10-25   67.27456\n",
       "3   2021-03-05   64.28811\n",
       "4   2022-10-15   61.18335\n",
       "..         ...        ...\n",
       "95  2022-02-08    9.46013\n",
       "96  2022-10-31    9.45809\n",
       "97  2021-05-18    9.42341\n",
       "98  2021-06-13    9.26226\n",
       "99  2021-04-25    9.21636\n",
       "\n",
       "[100 rows x 2 columns]"
      ]
     },
     "execution_count": 3,
     "metadata": {},
     "output_type": "execute_result"
    }
   ],
   "source": [
    "a"
   ]
  },
  {
   "cell_type": "code",
   "execution_count": 4,
   "id": "62ddce34",
   "metadata": {},
   "outputs": [],
   "source": [
    "a.to_csv(\"C:/marketing2/3월4일/top100.csv\")"
   ]
  },
  {
   "cell_type": "code",
   "execution_count": 5,
   "id": "6295ee52",
   "metadata": {},
   "outputs": [],
   "source": [
    "a.to_excel(\"C:/marketing2/3월4일/top100.xlsx\")"
   ]
  },
  {
   "cell_type": "code",
   "execution_count": null,
   "id": "8e710ef3",
   "metadata": {},
   "outputs": [],
   "source": []
  }
 ],
 "metadata": {
  "kernelspec": {
   "display_name": "Python 3 (ipykernel)",
   "language": "python",
   "name": "python3"
  },
  "language_info": {
   "codemirror_mode": {
    "name": "ipython",
    "version": 3
   },
   "file_extension": ".py",
   "mimetype": "text/x-python",
   "name": "python",
   "nbconvert_exporter": "python",
   "pygments_lexer": "ipython3",
   "version": "3.10.9"
  }
 },
 "nbformat": 4,
 "nbformat_minor": 5
}
